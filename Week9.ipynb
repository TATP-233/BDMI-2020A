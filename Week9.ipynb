{
 "cells": [
  {
   "cell_type": "code",
   "execution_count": 2,
   "metadata": {},
   "outputs": [],
   "source": [
    "import numpy as np\n",
    "import tensorflow as tf\n"
   ]
  },
  {
   "cell_type": "code",
   "execution_count": 4,
   "metadata": {},
   "outputs": [
    {
     "data": {
      "text/plain": [
       "array([[1, 2, 3],\n",
       "       [4, 5, 6]])"
      ]
     },
     "execution_count": 4,
     "metadata": {},
     "output_type": "execute_result"
    }
   ],
   "source": [
    "c = np.array([[1,2,3],[4,5,6]])\n",
    "c"
   ]
  },
  {
   "cell_type": "code",
   "execution_count": 32,
   "metadata": {},
   "outputs": [],
   "source": [
    "#d = np.array([[[1,2],[3,4],[5,6]],[[7,8],[9,10],[11,12]],[[13,14],[15,16],[17,18]],[[19,20],[21,22],[23,24]]])\n",
    "#d"
   ]
  },
  {
   "cell_type": "code",
   "execution_count": 12,
   "metadata": {},
   "outputs": [
    {
     "data": {
      "text/plain": [
       "array([[-1.03114966,  1.24939065, -0.25591672],\n",
       "       [ 1.33408256, -0.46227237, -0.18018944],\n",
       "       [ 0.53365836,  1.40147975,  1.24767028]])"
      ]
     },
     "execution_count": 12,
     "metadata": {},
     "output_type": "execute_result"
    }
   ],
   "source": [
    "e = np.random.randn(3,3)\n",
    "#e = np.random.randn(2,3)\n",
    "e"
   ]
  },
  {
   "cell_type": "code",
   "execution_count": 20,
   "metadata": {},
   "outputs": [
    {
     "name": "stdout",
     "output_type": "stream",
     "text": [
      "[[0.09991129 0.01258806 0.88644175]\n",
      " [0.82151224 0.74523432 0.31342734]\n",
      " [0.93322707 0.31966501 0.4665637 ]]\n",
      "[[0.03665719 0.15965093 0.73366593]\n",
      " [0.03031836 0.94533308 0.77093442]]\n",
      "[78.87262065 71.1112218  71.84374939]\n"
     ]
    },
    {
     "data": {
      "text/plain": [
       "array([ 66.95353342, 125.00189794])"
      ]
     },
     "execution_count": 20,
     "metadata": {},
     "output_type": "execute_result"
    }
   ],
   "source": [
    "w1 = np.random.rand(3,3)\n",
    "print(w1)\n",
    "w2 = np.random.rand(2,3)\n",
    "print(w2)\n",
    "x = np.array([22,35,86])\n",
    "print(np.dot(w1,x))\n",
    "y1 = np.dot(w2, (np.dot(w1,x)))\n",
    "y1"
   ]
  },
  {
   "cell_type": "code",
   "execution_count": 24,
   "metadata": {},
   "outputs": [
    {
     "name": "stdout",
     "output_type": "stream",
     "text": [
      "tf.Tensor([4], shape=(1,), dtype=int32)\n"
     ]
    }
   ],
   "source": [
    "rank0_tensor = tf.constant(4)\n",
    "print(rank0_tensor)"
   ]
  },
  {
   "cell_type": "code",
   "execution_count": 26,
   "metadata": {},
   "outputs": [
    {
     "name": "stdout",
     "output_type": "stream",
     "text": [
      "tf.Tensor([1. 2. 3.], shape=(3,), dtype=float32)\n"
     ]
    }
   ],
   "source": [
    "rank1_tensor = tf.constant([1.0 ,2.0 ,3.0])\n",
    "print(rank1_tensor)"
   ]
  },
  {
   "cell_type": "code",
   "execution_count": 31,
   "metadata": {},
   "outputs": [
    {
     "name": "stdout",
     "output_type": "stream",
     "text": [
      "tf.Tensor(\n",
      "[[1. 2.]\n",
      " [3. 4.]\n",
      " [5. 6.]], shape=(3, 2), dtype=float32)\n"
     ]
    }
   ],
   "source": [
    "rank2_tensor = tf.constant([[1.0 ,2.0],[3,4.0],[5.0, 6.0]])\n",
    "print(rank2_tensor)"
   ]
  },
  {
   "cell_type": "code",
   "execution_count": 33,
   "metadata": {},
   "outputs": [
    {
     "name": "stdout",
     "output_type": "stream",
     "text": [
      "tf.Tensor(\n",
      "[[ 1  2  3  4]\n",
      " [ 5  6  7  8]\n",
      " [ 9 10 11 12]\n",
      " [13 14 15 16]], shape=(4, 4), dtype=int32)\n"
     ]
    }
   ],
   "source": [
    "a = tf.constant([\n",
    "    [1,2,3,4],\n",
    "    [5,6,7,8],\n",
    "    [9,10,11,12],\n",
    "    [13,14,15,16]\n",
    "])\n",
    "print(a)"
   ]
  },
  {
   "cell_type": "code",
   "execution_count": 35,
   "metadata": {},
   "outputs": [
    {
     "name": "stdout",
     "output_type": "stream",
     "text": [
      "tf.Tensor(\n",
      "[[[-1.07875818 -0.61564944 -0.72643782 -0.72592727  2.32081523\n",
      "   -0.30924841]\n",
      "  [-0.76721888 -0.87692558 -0.47833473  0.37856384  0.6734567\n",
      "    0.2755614 ]\n",
      "  [-0.20955979  0.16439451  0.51187105 -0.155933    1.24444786\n",
      "   -0.1912806 ]\n",
      "  [-0.10977367 -1.53752748  0.40502606 -1.48304009 -0.06713576\n",
      "    0.50513666]\n",
      "  [-0.84814836 -1.88465659 -0.79988916  0.61417512  1.9395233\n",
      "   -0.06321106]]\n",
      "\n",
      " [[-1.9195088   1.15051719  1.84167091  0.2712267  -0.63639143\n",
      "   -0.15097267]\n",
      "  [ 0.28943822  0.47681163  0.37582997 -0.11745876  0.61484491\n",
      "    1.05490627]\n",
      "  [ 0.77306621  0.01720898  0.44759232  1.23280743 -0.48274185\n",
      "    0.34938476]\n",
      "  [ 0.98941019 -0.63104298  0.94391795 -1.35128111  0.17365266\n",
      "   -0.72434418]\n",
      "  [-0.59965139 -1.18872497 -1.28269144  0.36337729 -1.02549695\n",
      "    0.32070463]]\n",
      "\n",
      " [[ 0.649743   -0.01844819  0.49275356 -0.72974283  0.04090975\n",
      "   -0.12122152]\n",
      "  [ 0.49330051  0.32884049  0.23563389  0.97633717  1.04634673\n",
      "   -1.02559186]\n",
      "  [-0.09274814 -0.01823963  1.2276722   0.83491377  1.36907583\n",
      "    0.5790261 ]\n",
      "  [-0.45727139 -0.31190876  0.44668534  0.85541887 -0.35520874\n",
      "    1.87823842]\n",
      "  [-0.33354692 -0.87334932 -0.72573783 -0.47105286  0.97502629\n",
      "   -0.48769169]]\n",
      "\n",
      " [[ 0.83174905  0.32906977 -0.08123143  0.04000213 -1.03460018\n",
      "   -0.38605264]\n",
      "  [ 0.52446029  0.5943698   0.55165961  0.88919507  0.51516488\n",
      "    0.59345817]\n",
      "  [-0.23555048  1.93841004  0.94215816 -0.84587997 -0.34926581\n",
      "   -0.20781083]\n",
      "  [-0.89353265 -1.41336608 -0.78293905  0.72405113  1.247644\n",
      "    0.8146785 ]\n",
      "  [-1.19922875 -1.29786357 -0.77392023 -0.77461348 -0.08330766\n",
      "    0.23835512]]], shape=(4, 5, 6), dtype=float64)\n"
     ]
    }
   ],
   "source": [
    "x = tf.constant(np.random.randn(4,5,6))\n",
    "print(x)"
   ]
  },
  {
   "cell_type": "code",
   "execution_count": 38,
   "metadata": {},
   "outputs": [
    {
     "name": "stdout",
     "output_type": "stream",
     "text": [
      "tf.Tensor(\n",
      "[[2 4]\n",
      " [4 6]], shape=(2, 2), dtype=int32) \n",
      "\n",
      "tf.Tensor(\n",
      "[[1 4]\n",
      " [3 8]], shape=(2, 2), dtype=int32) \n",
      "\n",
      "tf.Tensor(\n",
      "[[ 3  6]\n",
      " [ 7 14]], shape=(2, 2), dtype=int32) \n",
      "\n"
     ]
    }
   ],
   "source": [
    "a = tf.constant([\n",
    "    [1,2],\n",
    "    [3,4]\n",
    "])\n",
    "b = tf.constant([\n",
    "    [1,2],\n",
    "    [1,2]\n",
    "])\n",
    "print(tf.add(a, b), \"\\n\")\n",
    "print(tf.multiply(a, b), \"\\n\")\n",
    "print(tf.matmul(a,b), \"\\n\")"
   ]
  },
  {
   "cell_type": "code",
   "execution_count": 39,
   "metadata": {},
   "outputs": [
    {
     "name": "stdout",
     "output_type": "stream",
     "text": [
      "<tf.Variable 'Variable:0' shape=(3, 1) dtype=int32, numpy=\n",
      "array([[1],\n",
      "       [2],\n",
      "       [3]])>\n"
     ]
    }
   ],
   "source": [
    "var_x = tf.Variable(tf.constant([[1],[2],[3]]))\n",
    "print(var_x)"
   ]
  },
  {
   "cell_type": "code",
   "execution_count": 40,
   "metadata": {},
   "outputs": [
    {
     "name": "stdout",
     "output_type": "stream",
     "text": [
      "<function set_log_device_placement at 0x000001F1C64DE318>\n"
     ]
    }
   ],
   "source": [
    "print(tf.debugging.set_log_device_placement)\n"
   ]
  },
  {
   "cell_type": "code",
   "execution_count": 59,
   "metadata": {},
   "outputs": [
    {
     "name": "stdout",
     "output_type": "stream",
     "text": [
      "<tf.Variable 'Variable:0' shape=(2, 2) dtype=int32, numpy=\n",
      "array([[ 0,  0],\n",
      "       [ 0, 11]])>\n"
     ]
    }
   ],
   "source": [
    "my_tensor = tf.constant([[0,0],[0,11]])\n",
    "my_variable = tf.Variable(my_tensor)\n",
    "print(my_variable)"
   ]
  },
  {
   "cell_type": "code",
   "execution_count": 60,
   "metadata": {},
   "outputs": [
    {
     "name": "stdout",
     "output_type": "stream",
     "text": [
      "tf.Tensor(\n",
      "[[ 0  0]\n",
      " [ 0 11]], shape=(2, 2), dtype=int32)\n"
     ]
    }
   ],
   "source": [
    "print(tf.convert_to_tensor(my_variable))\n"
   ]
  },
  {
   "cell_type": "code",
   "execution_count": 61,
   "metadata": {},
   "outputs": [
    {
     "name": "stdout",
     "output_type": "stream",
     "text": [
      "tf.Tensor([0 1], shape=(2,), dtype=int64)\n"
     ]
    }
   ],
   "source": [
    "print(tf.argmax(my_tensor))"
   ]
  },
  {
   "cell_type": "code",
   "execution_count": null,
   "metadata": {},
   "outputs": [],
   "source": []
  },
  {
   "cell_type": "code",
   "execution_count": null,
   "metadata": {},
   "outputs": [],
   "source": []
  }
 ],
 "metadata": {
  "kernelspec": {
   "display_name": "Python 3",
   "language": "python",
   "name": "python3"
  },
  "language_info": {
   "codemirror_mode": {
    "name": "ipython",
    "version": 3
   },
   "file_extension": ".py",
   "mimetype": "text/x-python",
   "name": "python",
   "nbconvert_exporter": "python",
   "pygments_lexer": "ipython3",
   "version": "3.7.5"
  }
 },
 "nbformat": 4,
 "nbformat_minor": 4
}
