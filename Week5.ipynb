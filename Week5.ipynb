{
 "cells": [
  {
   "cell_type": "code",
   "execution_count": null,
   "metadata": {},
   "outputs": [],
   "source": [
    "L = [7, 5, 3, 4, 1, 2, 8]\n",
    "B = [ [] for i in range(5) ]\n",
    "\n",
    "def hash_7m5(x):\n",
    "    return (x * 7) % 5\n",
    "\n",
    "for i in range(len(L)):\n",
    "    B[ hash_7m5(L[i]) ].append(L[i])\n",
    "\n",
    "print(B)\n"
   ]
  },
  {
   "cell_type": "code",
   "execution_count": null,
   "metadata": {},
   "outputs": [],
   "source": [
    "#存入9\n",
    "B[ hash_7m5(9) ].append(9)\n",
    "print(B)\n",
    "#删除4\n",
    "B[ hash_7m5(4) ].remove(4)\n",
    "print(B)"
   ]
  },
  {
   "cell_type": "code",
   "execution_count": 4,
   "metadata": {},
   "outputs": [],
   "source": [
    "import sqlite3"
   ]
  },
  {
   "cell_type": "code",
   "execution_count": 5,
   "metadata": {},
   "outputs": [],
   "source": [
    "db = sqlite3.connect(\"University11.db\")\n",
    "cursor=db.cursor()"
   ]
  },
  {
   "cell_type": "code",
   "execution_count": 6,
   "metadata": {},
   "outputs": [
    {
     "data": {
      "text/plain": [
       "<sqlite3.Cursor at 0x1e474492730>"
      ]
     },
     "execution_count": 6,
     "metadata": {},
     "output_type": "execute_result"
    }
   ],
   "source": [
    "cursor.execute(\"\"\"CREATE TABLE IF NOT EXISTS students\n",
    "(id integer PRIMARY KEY, name text NOT NULL, gender text NOT NULL, age ineger NOT NULL);\"\"\")"
   ]
  },
  {
   "cell_type": "code",
   "execution_count": 7,
   "metadata": {},
   "outputs": [],
   "source": [
    "cursor.execute(\"\"\"INSERT INTO students(id, name, gender, age) \n",
    "VALUES(1, 'zhangsan', 'male', 18)\"\"\")\n",
    "cursor.execute(\"\"\"INSERT INTO students(id, name, gender, age) \n",
    "VALUES(2, 'lisi', 'female', 19)\"\"\")\n",
    "cursor.execute(\"\"\"INSERT INTO students(id, name, gender, age) \n",
    "VALUES(3, 'wangwu', 'male', 17)\"\"\")\n",
    "db.commit()"
   ]
  },
  {
   "cell_type": "code",
   "execution_count": 8,
   "metadata": {},
   "outputs": [
    {
     "name": "stdout",
     "output_type": "stream",
     "text": [
      "[(1, 'zhangsan', 'male', 18), (2, 'lisi', 'female', 19), (3, 'wangwu', 'male', 17)]\n"
     ]
    }
   ],
   "source": [
    "cursor.execute(\"SELECT * FROM students\")\n",
    "print(cursor.fetchall())"
   ]
  },
  {
   "cell_type": "code",
   "execution_count": 9,
   "metadata": {},
   "outputs": [],
   "source": [
    "db.close()"
   ]
  },
  {
   "cell_type": "code",
   "execution_count": 10,
   "metadata": {},
   "outputs": [
    {
     "name": "stdout",
     "output_type": "stream",
     "text": [
      "[(100, 'Python', 'CZ'), (101, 'Algorithm', 'GM'), (102, 'SQL', 'WX')]\n"
     ]
    }
   ],
   "source": [
    "db = sqlite3.connect(\"university.db\")\n",
    "cursor=db.cursor()\n",
    "cursor.execute(\"\"\"CREATE TABLE IF NOT EXISTS class\n",
    "(id integer PRIMARY KEY, name text NOT NULL, teacher text NOT NULL);\"\"\")\n",
    "cursor.execute(\"\"\"INSERT INTO class(id, name, teacher) \n",
    "VALUES(100, 'Python', 'CZ')\"\"\")\n",
    "cursor.execute(\"\"\"INSERT INTO class(id, name, teacher) \n",
    "VALUES(101, 'Algorithm', 'GM')\"\"\")\n",
    "cursor.execute(\"\"\"INSERT INTO class(id, name, teacher) \n",
    "VALUES(102, 'SQL', 'WX')\"\"\")\n",
    "db.commit()\n",
    "cursor.execute(\"SELECT * FROM class\")\n",
    "print(cursor.fetchall())\n",
    "db.close()"
   ]
  },
  {
   "cell_type": "code",
   "execution_count": 11,
   "metadata": {},
   "outputs": [
    {
     "name": "stdout",
     "output_type": "stream",
     "text": [
      "[(1, 100, 80), (2, 102, 90), (3, 101, 70)]\n"
     ]
    }
   ],
   "source": [
    "db = sqlite3.connect(\"university.db\")\n",
    "cursor=db.cursor()\n",
    "cursor.execute(\"\"\"CREATE TABLE IF NOT EXISTS enrolled\n",
    "(student integer NOT NULL, class integer NOT NULL, grade integer NOT NULL);\"\"\")\n",
    "cursor.execute(\"\"\"INSERT INTO enrolled(student, class, grade) \n",
    "VALUES(1, 100, 80)\"\"\")\n",
    "cursor.execute(\"\"\"INSERT INTO enrolled(student, class, grade) \n",
    "VALUES(2, 102, 90)\"\"\")\n",
    "cursor.execute(\"\"\"INSERT INTO enrolled(student, class, grade) \n",
    "VALUES(3, 101, 70)\"\"\")\n",
    "db.commit()\n",
    "cursor.execute(\"SELECT * FROM enrolled\")\n",
    "print(cursor.fetchall())\n",
    "db.close()"
   ]
  },
  {
   "cell_type": "code",
   "execution_count": 12,
   "metadata": {
    "scrolled": true
   },
   "outputs": [
    {
     "ename": "OperationalError",
     "evalue": "no such table: students",
     "output_type": "error",
     "traceback": [
      "\u001b[1;31m---------------------------------------------------------------------------\u001b[0m",
      "\u001b[1;31mOperationalError\u001b[0m                          Traceback (most recent call last)",
      "\u001b[1;32m<ipython-input-12-232e827ff795>\u001b[0m in \u001b[0;36m<module>\u001b[1;34m\u001b[0m\n\u001b[0;32m      1\u001b[0m \u001b[0mdb\u001b[0m \u001b[1;33m=\u001b[0m \u001b[0msqlite3\u001b[0m\u001b[1;33m.\u001b[0m\u001b[0mconnect\u001b[0m\u001b[1;33m(\u001b[0m\u001b[1;34m\"university.db\"\u001b[0m\u001b[1;33m)\u001b[0m\u001b[1;33m\u001b[0m\u001b[1;33m\u001b[0m\u001b[0m\n\u001b[0;32m      2\u001b[0m \u001b[0mcursor\u001b[0m\u001b[1;33m=\u001b[0m\u001b[0mdb\u001b[0m\u001b[1;33m.\u001b[0m\u001b[0mcursor\u001b[0m\u001b[1;33m(\u001b[0m\u001b[1;33m)\u001b[0m\u001b[1;33m\u001b[0m\u001b[1;33m\u001b[0m\u001b[0m\n\u001b[1;32m----> 3\u001b[1;33m \u001b[0mcursor\u001b[0m\u001b[1;33m.\u001b[0m\u001b[0mexecute\u001b[0m\u001b[1;33m(\u001b[0m\u001b[1;34m\"\"\"SELECT students.id, students.name, students.gender, students.age, enrolled.class, enrolled.grade FROM students JOIN enrolled on students.id = enrolled.student\"\"\"\u001b[0m\u001b[1;33m)\u001b[0m\u001b[1;33m\u001b[0m\u001b[1;33m\u001b[0m\u001b[0m\n\u001b[0m\u001b[0;32m      4\u001b[0m \u001b[0mprint\u001b[0m\u001b[1;33m(\u001b[0m\u001b[0mcursor\u001b[0m\u001b[1;33m.\u001b[0m\u001b[0mfetchall\u001b[0m\u001b[1;33m(\u001b[0m\u001b[1;33m)\u001b[0m\u001b[1;33m)\u001b[0m\u001b[1;33m\u001b[0m\u001b[1;33m\u001b[0m\u001b[0m\n\u001b[0;32m      5\u001b[0m \u001b[0mdb\u001b[0m\u001b[1;33m.\u001b[0m\u001b[0mclose\u001b[0m\u001b[1;33m(\u001b[0m\u001b[1;33m)\u001b[0m\u001b[1;33m\u001b[0m\u001b[1;33m\u001b[0m\u001b[0m\n",
      "\u001b[1;31mOperationalError\u001b[0m: no such table: students"
     ]
    }
   ],
   "source": [
    "db = sqlite3.connect(\"university.db\")\n",
    "cursor=db.cursor()\n",
    "cursor.execute(\"\"\"SELECT students.id, students.name, students.gender, students.age, enrolled.class, enrolled.grade FROM students JOIN enrolled on students.id = enrolled.student\"\"\")\n",
    "print(cursor.fetchall())\n",
    "db.close()"
   ]
  },
  {
   "cell_type": "code",
   "execution_count": null,
   "metadata": {},
   "outputs": [],
   "source": []
  }
 ],
 "metadata": {
  "kernelspec": {
   "display_name": "Python 3",
   "language": "python",
   "name": "python3"
  },
  "language_info": {
   "codemirror_mode": {
    "name": "ipython",
    "version": 3
   },
   "file_extension": ".py",
   "mimetype": "text/x-python",
   "name": "python",
   "nbconvert_exporter": "python",
   "pygments_lexer": "ipython3",
   "version": "3.8.4"
  }
 },
 "nbformat": 4,
 "nbformat_minor": 4
}
